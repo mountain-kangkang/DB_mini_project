{
 "cells": [
  {
   "cell_type": "markdown",
   "metadata": {},
   "source": [
    "### 예스 24 크롤링"
   ]
  },
  {
   "cell_type": "code",
   "execution_count": 2,
   "metadata": {},
   "outputs": [],
   "source": [
    "from selenium import webdriver\n",
    "from webdriver_manager.chrome import ChromeDriverManager\n",
    "from selenium.webdriver.common.by import By\n",
    "ChromeDriverManager().install()\n",
    "\n",
    "browser = webdriver.Chrome()"
   ]
  },
  {
   "cell_type": "code",
   "execution_count": 3,
   "metadata": {},
   "outputs": [],
   "source": [
    "url = 'https://www.yes24.com/Product/Category/BestSeller?categoryNumber=001&pageNumber=1&pageSize=24'\n",
    "browser.get(url)"
   ]
  },
  {
   "cell_type": "code",
   "execution_count": 5,
   "metadata": {},
   "outputs": [
    {
     "name": "stdout",
     "output_type": "stream",
     "text": [
      "***** 1 page scraping now... *****\n",
      "***** 2 page scraping now... *****\n",
      "***** 3 page scraping now... *****\n",
      "['https://www.yes24.com/Product/Goods/13137546', 'https://www.yes24.com/Product/Goods/108422348', 'https://www.yes24.com/Product/Goods/103495056', 'https://www.yes24.com/Product/Goods/11467936', 'https://www.yes24.com/Product/Goods/60524285', 'https://www.yes24.com/Product/Goods/5926713', 'https://www.yes24.com/Product/Goods/133213071', 'https://www.yes24.com/Product/Goods/136300519', 'https://www.yes24.com/Product/Goods/125557465', 'https://www.yes24.com/Product/Goods/134602629', 'https://www.yes24.com/Product/Goods/136370800', 'https://www.yes24.com/Product/Goods/136357171', 'https://www.yes24.com/Product/Goods/135966968', 'https://www.yes24.com/Product/Goods/136263337', 'https://www.yes24.com/Product/Goods/119266745', 'https://www.yes24.com/Product/Goods/135439929', 'https://www.yes24.com/Product/Goods/119149162', 'https://www.yes24.com/Product/Goods/133813184', 'https://www.yes24.com/Product/Goods/133312039', 'https://www.yes24.com/Product/Goods/133127953', 'https://www.yes24.com/Product/Goods/8759796', 'https://www.yes24.com/Product/Goods/136274996', 'https://www.yes24.com/Product/Goods/3720621', 'https://www.yes24.com/Product/Goods/133308510', 'https://www.yes24.com/Product/Goods/104663596', 'https://www.yes24.com/Product/Goods/128266166', 'https://www.yes24.com/Product/Goods/124043812', 'https://www.yes24.com/Product/Goods/2956444', 'https://www.yes24.com/Product/Goods/124043802', 'https://www.yes24.com/Product/Goods/117014613', 'https://www.yes24.com/Product/Goods/128829030', 'https://www.yes24.com/Product/Goods/133809700', 'https://www.yes24.com/Product/Goods/66752481', 'https://www.yes24.com/Product/Goods/136299785', 'https://www.yes24.com/Product/Goods/133819525', 'https://www.yes24.com/Product/Goods/134331993', 'https://www.yes24.com/Product/Goods/124999476', 'https://www.yes24.com/Product/Goods/131930939', 'https://www.yes24.com/Product/Goods/134857687', 'https://www.yes24.com/Product/Goods/96547408', 'https://www.yes24.com/Product/Goods/133236068', 'https://www.yes24.com/Product/Goods/133870359', 'https://www.yes24.com/Product/Goods/116586303', 'https://www.yes24.com/Product/Goods/102457889', 'https://www.yes24.com/Product/Goods/136365165', 'https://www.yes24.com/Product/Goods/136298814', 'https://www.yes24.com/Product/Goods/135721917', 'https://www.yes24.com/Product/Goods/122120495', 'https://www.yes24.com/Product/Goods/129602366', 'https://www.yes24.com/Product/Goods/132190133', 'https://www.yes24.com/Product/Goods/136549439', 'https://www.yes24.com/Product/Goods/136252344', 'https://www.yes24.com/Product/Goods/132565140', 'https://www.yes24.com/Product/Goods/67362730', 'https://www.yes24.com/Product/Goods/74971092', 'https://www.yes24.com/Product/Goods/132560712', 'https://www.yes24.com/Product/Goods/133199014', 'https://www.yes24.com/Product/Goods/129094064', 'https://www.yes24.com/Product/Goods/134214543', 'https://www.yes24.com/Product/Goods/134634216', 'https://www.yes24.com/Product/Goods/136298166', 'https://www.yes24.com/Product/Goods/124622440', 'https://www.yes24.com/Product/Goods/135278732', 'https://www.yes24.com/Product/Goods/133811843', 'https://www.yes24.com/Product/Goods/2312211', 'https://www.yes24.com/Product/Goods/135854210', 'https://www.yes24.com/Product/Goods/136550371', 'https://www.yes24.com/Product/Goods/133975508', 'https://www.yes24.com/Product/Goods/57665662', 'https://www.yes24.com/Product/Goods/97255028', 'https://www.yes24.com/Product/Goods/133277225', 'https://www.yes24.com/Product/Goods/118322901']\n"
     ]
    }
   ],
   "source": [
    "# 3page까지의 링크 데이터 전부 수집\n",
    "# https://www.yes24.com/Product/Category/BestSeller?categoryNumber=001&pageNumber=1&pageSize=24\n",
    "# https://www.yes24.com/Product/Category/BestSeller?categoryNumber=001&pageNumber=2&pageSize=24\n",
    "# https://www.yes24.com/Product/Category/BestSeller?categoryNumber=001&pageNumber=3&pageSize=24\n",
    "\n",
    "import time\n",
    "\n",
    "link_list = []\n",
    "for i in range(1, 4):\n",
    "    print(\"*\"*5, f\"{i} page scraping now...\", \"*\"*5)\n",
    "\n",
    "    url = f\"https://www.yes24.com/Product/Category/BestSeller?categoryNumber=001&pageNumber={i}&pageSize=24\"\n",
    "    browser.get(url)\n",
    "\n",
    "    browser.find_element(By.CLASS_NAME, 'gd_name').get_attribute('href')\n",
    "\n",
    "    datas = browser.find_elements(By.CLASS_NAME, 'gd_name')\n",
    "    for data in datas:\n",
    "        link = data.get_attribute('href')\n",
    "        link_list.append(link)\n",
    "\n",
    "    time.sleep(3)\n",
    "\n",
    "print(link_list)"
   ]
  },
  {
   "cell_type": "code",
   "execution_count": 6,
   "metadata": {},
   "outputs": [
    {
     "data": {
      "text/plain": [
       "72"
      ]
     },
     "execution_count": 6,
     "metadata": {},
     "output_type": "execute_result"
    }
   ],
   "source": [
    "len(link_list)"
   ]
  },
  {
   "cell_type": "code",
   "execution_count": 17,
   "metadata": {},
   "outputs": [
    {
     "data": {
      "text/plain": [
       "'국내도서 1위 4주'"
      ]
     },
     "execution_count": 17,
     "metadata": {},
     "output_type": "execute_result"
    }
   ],
   "source": [
    "# for link in link_list:\n",
    "#     # 상세 페이지로 이동\n",
    "#     browser.get(link)\n",
    "\n",
    "browser.get(link_list[0])\n",
    "\n",
    "title = browser.find_element(By.CLASS_NAME, 'gd_name').text\n",
    "author = browser.find_element(By.CLASS_NAME, 'gd_auth').text\n",
    "publisher = browser.find_element(By.CLASS_NAME, 'gd_pub').text\n",
    "publishing =  browser.find_element(By.CLASS_NAME, 'gd_date').text\n",
    "rating = browser.find_element(By.CLASS_NAME, 'yes_b').text\n",
    "reviews =browser.find_element(By.CLASS_NAME, 'txC_blue').text\n",
    "sales = browser.find_element(By.CLASS_NAME, 'gd_sellNum').text.split()[2]\n",
    "price = browser.find_element(By.CLASS_NAME, 'yes_m').text[:-1]\n",
    "ranking = browser.find_element(By.CLASS_NAME, 'gd_best').text.split(\" | \")[0]\n",
    "ranking_weeks = browser.find_element(By.CLASS_NAME, 'gd_best').text.split(\" | \")[1]\n",
    "\n",
    " "
   ]
  },
  {
   "cell_type": "code",
   "execution_count": null,
   "metadata": {},
   "outputs": [],
   "source": [
    "# 데이터 베이스 연동 후 -> 수집한 데이터를 DB에 저장\n",
    "# 상세 페이지 이동 후 데이터 크롤링"
   ]
  }
 ],
 "metadata": {
  "kernelspec": {
   "display_name": ".venv",
   "language": "python",
   "name": "python3"
  },
  "language_info": {
   "codemirror_mode": {
    "name": "ipython",
    "version": 3
   },
   "file_extension": ".py",
   "mimetype": "text/x-python",
   "name": "python",
   "nbconvert_exporter": "python",
   "pygments_lexer": "ipython3",
   "version": "3.12.6"
  }
 },
 "nbformat": 4,
 "nbformat_minor": 2
}
